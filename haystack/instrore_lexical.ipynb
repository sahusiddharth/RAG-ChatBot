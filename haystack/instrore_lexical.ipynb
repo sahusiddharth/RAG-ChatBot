{
 "cells": [
  {
   "cell_type": "markdown",
   "metadata": {},
   "source": [
    "## Importing Dependencies"
   ]
  },
  {
   "cell_type": "code",
   "execution_count": 1,
   "metadata": {},
   "outputs": [
    {
     "name": "stderr",
     "output_type": "stream",
     "text": [
      "/home/siddharth/miniconda3/envs/haystack/lib/python3.10/site-packages/tqdm/auto.py:21: TqdmWarning: IProgress not found. Please update jupyter and ipywidgets. See https://ipywidgets.readthedocs.io/en/stable/user_install.html\n",
      "  from .autonotebook import tqdm as notebook_tqdm\n"
     ]
    }
   ],
   "source": [
    "import pandas as pd\n",
    "from haystack.document_stores import InMemoryDocumentStore\n",
    "from haystack.nodes import TfidfRetriever, BM25Retriever\n",
    "from haystack.pipelines import DocumentSearchPipeline\n",
    "from haystack import Document\n",
    "from haystack.utils import print_documents"
   ]
  },
  {
   "cell_type": "markdown",
   "metadata": {},
   "source": [
    "## Loading Dataset"
   ]
  },
  {
   "cell_type": "code",
   "execution_count": 2,
   "metadata": {},
   "outputs": [
    {
     "data": {
      "text/html": [
       "<div>\n",
       "<style scoped>\n",
       "    .dataframe tbody tr th:only-of-type {\n",
       "        vertical-align: middle;\n",
       "    }\n",
       "\n",
       "    .dataframe tbody tr th {\n",
       "        vertical-align: top;\n",
       "    }\n",
       "\n",
       "    .dataframe thead th {\n",
       "        text-align: right;\n",
       "    }\n",
       "</style>\n",
       "<table border=\"1\" class=\"dataframe\">\n",
       "  <thead>\n",
       "    <tr style=\"text-align: right;\">\n",
       "      <th></th>\n",
       "      <th>Crisp</th>\n",
       "      <th>Detailed</th>\n",
       "    </tr>\n",
       "  </thead>\n",
       "  <tbody>\n",
       "    <tr>\n",
       "      <th>0</th>\n",
       "      <td>Plaksha University, founded in 2019, emerged a...</td>\n",
       "      <td>Plaksha University is the culmination of a vis...</td>\n",
       "    </tr>\n",
       "    <tr>\n",
       "      <th>1</th>\n",
       "      <td>Plaksha University's framework rests upon thre...</td>\n",
       "      <td>Plaksha University's mission is underpinned by...</td>\n",
       "    </tr>\n",
       "    <tr>\n",
       "      <th>2</th>\n",
       "      <td>Plaksha University's founders represent a dive...</td>\n",
       "      <td>The driving force behind Plaksha University co...</td>\n",
       "    </tr>\n",
       "    <tr>\n",
       "      <th>3</th>\n",
       "      <td>Back in 2017, Plaksha University formed an Aca...</td>\n",
       "      <td>In 2017, Plaksha University took a significant...</td>\n",
       "    </tr>\n",
       "    <tr>\n",
       "      <th>4</th>\n",
       "      <td>Plaksha University has forged partnerships wit...</td>\n",
       "      <td>Plaksha University's commitment to fostering t...</td>\n",
       "    </tr>\n",
       "  </tbody>\n",
       "</table>\n",
       "</div>"
      ],
      "text/plain": [
       "                                               Crisp  \\\n",
       "0  Plaksha University, founded in 2019, emerged a...   \n",
       "1  Plaksha University's framework rests upon thre...   \n",
       "2  Plaksha University's founders represent a dive...   \n",
       "3  Back in 2017, Plaksha University formed an Aca...   \n",
       "4  Plaksha University has forged partnerships wit...   \n",
       "\n",
       "                                            Detailed  \n",
       "0  Plaksha University is the culmination of a vis...  \n",
       "1  Plaksha University's mission is underpinned by...  \n",
       "2  The driving force behind Plaksha University co...  \n",
       "3  In 2017, Plaksha University took a significant...  \n",
       "4  Plaksha University's commitment to fostering t...  "
      ]
     },
     "execution_count": 2,
     "metadata": {},
     "output_type": "execute_result"
    }
   ],
   "source": [
    "website_df = pd.read_csv('../data/plaksha website - Sheet2m.csv')\n",
    "website_df.head()"
   ]
  },
  {
   "cell_type": "markdown",
   "metadata": {},
   "source": [
    "## Creating a Instore Data Store"
   ]
  },
  {
   "cell_type": "code",
   "execution_count": 3,
   "metadata": {},
   "outputs": [],
   "source": [
    "document_store_instore = InMemoryDocumentStore(use_bm25=False, use_gpu=True)"
   ]
  },
  {
   "cell_type": "markdown",
   "metadata": {},
   "source": [
    "### Casting data into Document object"
   ]
  },
  {
   "cell_type": "markdown",
   "metadata": {},
   "source": [
    "The structure of Document Class is\n",
    "\n",
    "```python\n",
    "class Document:\n",
    "    content: Union[str, pd.DataFrame]\n",
    "    content_type: Literal[\"text\", \"table\", \"image\"]\n",
    "    id: str\n",
    "    meta: Dict[str, Any]\n",
    "    score: Optional[float] = None\n",
    "    embedding: Optional[np.ndarray] = None\n",
    "    id_hash_keys: Optional[List[str]] = None\n",
    "```"
   ]
  },
  {
   "cell_type": "code",
   "execution_count": 4,
   "metadata": {},
   "outputs": [],
   "source": [
    "document_list = []\n",
    "\n",
    "for i in website_df[\"Crisp\"]:\n",
    "    document = Document(content=i, content_type='text')\n",
    "    document_list.append(document)"
   ]
  },
  {
   "cell_type": "code",
   "execution_count": 5,
   "metadata": {},
   "outputs": [],
   "source": [
    "document_store_instore.write_documents(document_list)"
   ]
  },
  {
   "cell_type": "code",
   "execution_count": 6,
   "metadata": {},
   "outputs": [
    {
     "data": {
      "text/plain": [
       "\"Plaksha University, founded in 2019, emerged as an innovative institution initiated by visionary entrepreneurs and industry leaders. The journey began in 2017 with the inception of the Reimagining Higher Education Foundation, dedicated to transforming technology education, both in India and worldwide. In February 2019, the Mohali campus was officially inaugurated, setting the stage for its inaugural student intake in August 2021. Plaksha University's mission is to redefine engineering and technology education, offering a cutting-edge approach to nurture the next generation of tech leaders, making a significant impact on the educational landscape and the future of technology-driven innovation.\""
      ]
     },
     "execution_count": 6,
     "metadata": {},
     "output_type": "execute_result"
    }
   ],
   "source": [
    "document_list[0].content"
   ]
  },
  {
   "cell_type": "code",
   "execution_count": 7,
   "metadata": {},
   "outputs": [],
   "source": [
    "document_list[0].embedding"
   ]
  },
  {
   "cell_type": "markdown",
   "metadata": {},
   "source": [
    "## Initializing the Retriever (TF-IDF)\n",
    "\n",
    "TF-IDF is a commonly used baseline for information retrieval that exploits two key intuitions:\n",
    "\n",
    "- Documents that have more lexical overlap with the query are more likely to be relevant.\n",
    "- Words that occur in fewer documents are more significant than words that occur in many documents.\n"
   ]
  },
  {
   "cell_type": "code",
   "execution_count": 8,
   "metadata": {},
   "outputs": [],
   "source": [
    "retriever_tfidf = TfidfRetriever(document_store_instore, top_k=3)"
   ]
  },
  {
   "cell_type": "markdown",
   "metadata": {},
   "source": [
    "## Creating the Pipeline"
   ]
  },
  {
   "cell_type": "code",
   "execution_count": 9,
   "metadata": {},
   "outputs": [],
   "source": [
    "search_pipeline = DocumentSearchPipeline(retriever_tfidf)"
   ]
  },
  {
   "cell_type": "code",
   "execution_count": 10,
   "metadata": {},
   "outputs": [],
   "source": [
    "result = search_pipeline.run(\n",
    "    query = \"btech degrees fee\",\n",
    "    params={\"Retriever\": {\"top_k\":3}}\n",
    ")"
   ]
  },
  {
   "cell_type": "code",
   "execution_count": 11,
   "metadata": {},
   "outputs": [
    {
     "name": "stdout",
     "output_type": "stream",
     "text": [
      "\n",
      "Query: btech degrees fee\n",
      "\n",
      "{   'content': 'The fee structure for our Ph.D. program at Plaksha University '\n",
      "               'is as follows:\\r\\n'\n",
      "               '\\r\\n'\n",
      "               'Admission Fee (One Time): ₹25,000\\r\\n'\n",
      "               'Annual Registration Fee (Non-Refundable): ₹5,000\\r\\n'\n",
      "               'Annual Tuition Fee: ₹7,00,000\\r\\n'\n",
      "               'This provides a clear overview of the financial obligations '\n",
      "               'for students enrolling in the program.',\n",
      "    'name': None}\n",
      "\n",
      "{   'content': \"Plaksha University's BTech program fees are divided into two \"\n",
      "               'installments each year, with the semester fees detailed in a '\n",
      "               'table format. Additionally, students should be aware of '\n",
      "               'one-time payments, including a Security Deposit of Rs 50,000 '\n",
      "               \"and an Admission Fee of Rs 50,000. It's important to note that \"\n",
      "               'the deadline for the payment of Semester 1 fees varies '\n",
      "               'depending on the specific admission round. Furthermore, '\n",
      "               'candidates should be aware that fee revisions are possible in '\n",
      "               'subsequent years, typically ranging from 5% to 8% annually. '\n",
      "               'This information provides a transparent overview of the '\n",
      "               'financial aspects associated with the BTech program at Plaksha '\n",
      "               'University.',\n",
      "    'name': None}\n",
      "\n",
      "{   'content': 'For our Ph.D. program, fees include a one-time admission fee '\n",
      "               'of ₹25,000, an annual non-refundable registration fee of '\n",
      "               '₹5,000, and an annual tuition fee of ₹7,00,000. Full tuition '\n",
      "               'fee waivers are available for candidates admitted under the '\n",
      "               'Plaksha Doctoral Fellowship or Government Fellowship. '\n",
      "               'Financial support includes a monthly stipend of ₹60,000 for '\n",
      "               'the first and second years and ₹70,000 in subsequent years, '\n",
      "               'along with allowances for conference/workshops (up to '\n",
      "               '₹2,00,000) and research internships at national and '\n",
      "               'international institutions.',\n",
      "    'name': None}\n",
      "\n"
     ]
    }
   ],
   "source": [
    "print_documents(result)"
   ]
  },
  {
   "cell_type": "markdown",
   "metadata": {},
   "source": [
    "## Creating a Instore Data Store"
   ]
  },
  {
   "cell_type": "code",
   "execution_count": 12,
   "metadata": {},
   "outputs": [],
   "source": [
    "document_store_inmemory = InMemoryDocumentStore(use_bm25=True, use_gpu=True)"
   ]
  },
  {
   "cell_type": "markdown",
   "metadata": {},
   "source": [
    "### Casting data into Document object"
   ]
  },
  {
   "cell_type": "code",
   "execution_count": 13,
   "metadata": {},
   "outputs": [],
   "source": [
    "document_list = []\n",
    "\n",
    "for i in website_df[\"Crisp\"]:\n",
    "    document = Document(content=i, content_type='text')\n",
    "    document_list.append(document)"
   ]
  },
  {
   "cell_type": "code",
   "execution_count": 14,
   "metadata": {},
   "outputs": [
    {
     "name": "stderr",
     "output_type": "stream",
     "text": [
      "Updating BM25 representation...: 100%|██████████| 78/78 [00:00<00:00, 20998.44 docs/s]\n"
     ]
    }
   ],
   "source": [
    "document_store_inmemory.write_documents(document_list)"
   ]
  },
  {
   "cell_type": "code",
   "execution_count": 15,
   "metadata": {},
   "outputs": [
    {
     "data": {
      "text/plain": [
       "\"Plaksha University, founded in 2019, emerged as an innovative institution initiated by visionary entrepreneurs and industry leaders. The journey began in 2017 with the inception of the Reimagining Higher Education Foundation, dedicated to transforming technology education, both in India and worldwide. In February 2019, the Mohali campus was officially inaugurated, setting the stage for its inaugural student intake in August 2021. Plaksha University's mission is to redefine engineering and technology education, offering a cutting-edge approach to nurture the next generation of tech leaders, making a significant impact on the educational landscape and the future of technology-driven innovation.\""
      ]
     },
     "execution_count": 15,
     "metadata": {},
     "output_type": "execute_result"
    }
   ],
   "source": [
    "document_list[0].content"
   ]
  },
  {
   "cell_type": "markdown",
   "metadata": {},
   "source": [
    "## Initializing the Retriever (BM25)\n",
    "\n",
    "BM25 is a variant of TF-IDF. It improves in two main aspects:\n",
    "\n",
    "- It saturates tf after a set number of occurrences of the given term in the document\n",
    "- It normalises by document length so that short documents are favoured over long documents if they have the same amount of word overlap with the query\n"
   ]
  },
  {
   "cell_type": "code",
   "execution_count": 16,
   "metadata": {},
   "outputs": [],
   "source": [
    "retriever_bm25 = BM25Retriever(document_store_inmemory, top_k=3)"
   ]
  },
  {
   "cell_type": "markdown",
   "metadata": {},
   "source": [
    "## Creating the Pipeline"
   ]
  },
  {
   "cell_type": "code",
   "execution_count": 17,
   "metadata": {},
   "outputs": [],
   "source": [
    "search_pipeline = DocumentSearchPipeline(retriever_bm25)"
   ]
  },
  {
   "cell_type": "code",
   "execution_count": 18,
   "metadata": {},
   "outputs": [
    {
     "name": "stdout",
     "output_type": "stream",
     "text": [
      "\n",
      "Query: btech degrees fee\n",
      "\n",
      "{   'content': \"Plaksha University's BTech program fees are divided into two \"\n",
      "               'installments each year, with the semester fees detailed in a '\n",
      "               'table format. Additionally, students should be aware of '\n",
      "               'one-time payments, including a Security Deposit of Rs 50,000 '\n",
      "               \"and an Admission Fee of Rs 50,000. It's important to note that \"\n",
      "               'the deadline for the payment of Semester 1 fees varies '\n",
      "               'depending on the specific admission round. Furthermore, '\n",
      "               'candidates should be aware that fee revisions are possible in '\n",
      "               'subsequent years, typically ranging from 5% to 8% annually. '\n",
      "               'This information provides a transparent overview of the '\n",
      "               'financial aspects associated with the BTech program at Plaksha '\n",
      "               'University.',\n",
      "    'name': None}\n",
      "\n",
      "{   'content': 'The fee structure for our Ph.D. program at Plaksha University '\n",
      "               'is as follows:\\r\\n'\n",
      "               '\\r\\n'\n",
      "               'Admission Fee (One Time): ₹25,000\\r\\n'\n",
      "               'Annual Registration Fee (Non-Refundable): ₹5,000\\r\\n'\n",
      "               'Annual Tuition Fee: ₹7,00,000\\r\\n'\n",
      "               'This provides a clear overview of the financial obligations '\n",
      "               'for students enrolling in the program.',\n",
      "    'name': None}\n",
      "\n",
      "{   'content': 'For our Ph.D. program, fees include a one-time admission fee '\n",
      "               'of ₹25,000, an annual non-refundable registration fee of '\n",
      "               '₹5,000, and an annual tuition fee of ₹7,00,000. Full tuition '\n",
      "               'fee waivers are available for candidates admitted under the '\n",
      "               'Plaksha Doctoral Fellowship or Government Fellowship. '\n",
      "               'Financial support includes a monthly stipend of ₹60,000 for '\n",
      "               'the first and second years and ₹70,000 in subsequent years, '\n",
      "               'along with allowances for conference/workshops (up to '\n",
      "               '₹2,00,000) and research internships at national and '\n",
      "               'international institutions.',\n",
      "    'name': None}\n",
      "\n"
     ]
    }
   ],
   "source": [
    "result = search_pipeline.run(\n",
    "    query = \"btech degrees fee\",\n",
    "    params={\"Retriever\": {\"top_k\":3}}\n",
    ")\n",
    "\n",
    "print_documents(result)"
   ]
  },
  {
   "cell_type": "code",
   "execution_count": null,
   "metadata": {},
   "outputs": [],
   "source": []
  }
 ],
 "metadata": {
  "kernelspec": {
   "display_name": "haystack",
   "language": "python",
   "name": "python3"
  },
  "language_info": {
   "codemirror_mode": {
    "name": "ipython",
    "version": 3
   },
   "file_extension": ".py",
   "mimetype": "text/x-python",
   "name": "python",
   "nbconvert_exporter": "python",
   "pygments_lexer": "ipython3",
   "version": "3.10.13"
  },
  "orig_nbformat": 4
 },
 "nbformat": 4,
 "nbformat_minor": 2
}
