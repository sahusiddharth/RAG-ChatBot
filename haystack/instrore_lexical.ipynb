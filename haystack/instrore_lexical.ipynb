{
 "cells": [
  {
   "cell_type": "markdown",
   "metadata": {},
   "source": [
    "## Importing Dependencies"
   ]
  },
  {
   "cell_type": "code",
   "execution_count": 1,
   "metadata": {},
   "outputs": [
    {
     "name": "stderr",
     "output_type": "stream",
     "text": [
      "/home/siddharth/miniconda3/envs/haystack/lib/python3.10/site-packages/tqdm/auto.py:21: TqdmWarning: IProgress not found. Please update jupyter and ipywidgets. See https://ipywidgets.readthedocs.io/en/stable/user_install.html\n",
      "  from .autonotebook import tqdm as notebook_tqdm\n"
     ]
    }
   ],
   "source": [
    "import pandas as pd\n",
    "from haystack.document_stores import InMemoryDocumentStore\n",
    "from haystack.nodes import TfidfRetriever\n",
    "from haystack.pipelines import DocumentSearchPipeline\n",
    "from haystack import Document\n",
    "from haystack.utils import print_documents"
   ]
  },
  {
   "cell_type": "markdown",
   "metadata": {},
   "source": [
    "## Loading Dataset"
   ]
  },
  {
   "cell_type": "code",
   "execution_count": 2,
   "metadata": {},
   "outputs": [
    {
     "data": {
      "text/html": [
       "<div>\n",
       "<style scoped>\n",
       "    .dataframe tbody tr th:only-of-type {\n",
       "        vertical-align: middle;\n",
       "    }\n",
       "\n",
       "    .dataframe tbody tr th {\n",
       "        vertical-align: top;\n",
       "    }\n",
       "\n",
       "    .dataframe thead th {\n",
       "        text-align: right;\n",
       "    }\n",
       "</style>\n",
       "<table border=\"1\" class=\"dataframe\">\n",
       "  <thead>\n",
       "    <tr style=\"text-align: right;\">\n",
       "      <th></th>\n",
       "      <th>Crisp</th>\n",
       "      <th>Detailed</th>\n",
       "    </tr>\n",
       "  </thead>\n",
       "  <tbody>\n",
       "    <tr>\n",
       "      <th>0</th>\n",
       "      <td>Plaksha University, founded in 2019, emerged a...</td>\n",
       "      <td>Plaksha University is the culmination of a vis...</td>\n",
       "    </tr>\n",
       "    <tr>\n",
       "      <th>1</th>\n",
       "      <td>Plaksha University's framework rests upon thre...</td>\n",
       "      <td>Plaksha University's mission is underpinned by...</td>\n",
       "    </tr>\n",
       "    <tr>\n",
       "      <th>2</th>\n",
       "      <td>Plaksha University's founders represent a dive...</td>\n",
       "      <td>The driving force behind Plaksha University co...</td>\n",
       "    </tr>\n",
       "    <tr>\n",
       "      <th>3</th>\n",
       "      <td>Back in 2017, Plaksha University formed an Aca...</td>\n",
       "      <td>In 2017, Plaksha University took a significant...</td>\n",
       "    </tr>\n",
       "    <tr>\n",
       "      <th>4</th>\n",
       "      <td>Plaksha University has forged partnerships wit...</td>\n",
       "      <td>Plaksha University's commitment to fostering t...</td>\n",
       "    </tr>\n",
       "  </tbody>\n",
       "</table>\n",
       "</div>"
      ],
      "text/plain": [
       "                                               Crisp  \\\n",
       "0  Plaksha University, founded in 2019, emerged a...   \n",
       "1  Plaksha University's framework rests upon thre...   \n",
       "2  Plaksha University's founders represent a dive...   \n",
       "3  Back in 2017, Plaksha University formed an Aca...   \n",
       "4  Plaksha University has forged partnerships wit...   \n",
       "\n",
       "                                            Detailed  \n",
       "0  Plaksha University is the culmination of a vis...  \n",
       "1  Plaksha University's mission is underpinned by...  \n",
       "2  The driving force behind Plaksha University co...  \n",
       "3  In 2017, Plaksha University took a significant...  \n",
       "4  Plaksha University's commitment to fostering t...  "
      ]
     },
     "execution_count": 2,
     "metadata": {},
     "output_type": "execute_result"
    }
   ],
   "source": [
    "website_df = pd.read_csv('../data/plaksha website - Sheet2m.csv')\n",
    "website_df.head()"
   ]
  },
  {
   "cell_type": "markdown",
   "metadata": {},
   "source": [
    "## Creating a Instore Data Store"
   ]
  },
  {
   "cell_type": "code",
   "execution_count": null,
   "metadata": {},
   "outputs": [],
   "source": [
    "document_store_instore = InMemoryDocumentStore(use_bm25=False, use_gpu=True)"
   ]
  },
  {
   "cell_type": "markdown",
   "metadata": {},
   "source": [
    "### Casting data into Document object"
   ]
  },
  {
   "cell_type": "markdown",
   "metadata": {},
   "source": [
    "The structure of Document Class is\n",
    "\n",
    "```python\n",
    "class Document:\n",
    "    content: Union[str, pd.DataFrame]\n",
    "    content_type: Literal[\"text\", \"table\", \"image\"]\n",
    "    id: str\n",
    "    meta: Dict[str, Any]\n",
    "    score: Optional[float] = None\n",
    "    embedding: Optional[np.ndarray] = None\n",
    "    id_hash_keys: Optional[List[str]] = None\n",
    "```"
   ]
  },
  {
   "cell_type": "code",
   "execution_count": null,
   "metadata": {},
   "outputs": [],
   "source": [
    "document_list = []\n",
    "\n",
    "for i in website_df[\"Crisp\"]:\n",
    "    document = Document(content=i, content_type='text')\n",
    "    document_list.append(document)"
   ]
  },
  {
   "cell_type": "code",
   "execution_count": null,
   "metadata": {},
   "outputs": [],
   "source": [
    "document_store_instore.write_documents(document_list)"
   ]
  },
  {
   "cell_type": "code",
   "execution_count": null,
   "metadata": {},
   "outputs": [],
   "source": [
    "document_list[0].content"
   ]
  },
  {
   "cell_type": "code",
   "execution_count": null,
   "metadata": {},
   "outputs": [],
   "source": [
    "document_list[0].embedding"
   ]
  },
  {
   "cell_type": "markdown",
   "metadata": {},
   "source": [
    "## Initializing the Retriever (TF-IDF)\n",
    "\n",
    "TF-IDF is a commonly used baseline for information retrieval that exploits two key intuitions:\n",
    "\n",
    "- Documents that have more lexical overlap with the query are more likely to be relevant.\n",
    "- Words that occur in fewer documents are more significant than words that occur in many documents.\n"
   ]
  },
  {
   "cell_type": "code",
   "execution_count": null,
   "metadata": {},
   "outputs": [],
   "source": [
    "retriever_tfidf = TfidfRetriever(document_store_instore, top_k=3)"
   ]
  },
  {
   "cell_type": "markdown",
   "metadata": {},
   "source": []
  },
  {
   "cell_type": "code",
   "execution_count": null,
   "metadata": {},
   "outputs": [],
   "source": [
    "search_pipeline = DocumentSearchPipeline(retriever_tfidf)"
   ]
  },
  {
   "cell_type": "code",
   "execution_count": null,
   "metadata": {},
   "outputs": [],
   "source": [
    "result = search_pipeline.run(\n",
    "    query = \"btech degrees fee\",\n",
    "    params={\"Retriever\": {\"top_k\":3}}\n",
    ")"
   ]
  },
  {
   "cell_type": "code",
   "execution_count": null,
   "metadata": {},
   "outputs": [],
   "source": [
    "print_documents(result)"
   ]
  }
 ],
 "metadata": {
  "kernelspec": {
   "display_name": "haystack",
   "language": "python",
   "name": "python3"
  },
  "language_info": {
   "codemirror_mode": {
    "name": "ipython",
    "version": 3
   },
   "file_extension": ".py",
   "mimetype": "text/x-python",
   "name": "python",
   "nbconvert_exporter": "python",
   "pygments_lexer": "ipython3",
   "version": "3.10.13"
  },
  "orig_nbformat": 4
 },
 "nbformat": 4,
 "nbformat_minor": 2
}
