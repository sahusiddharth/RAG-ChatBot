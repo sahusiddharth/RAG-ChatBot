{
 "cells": [
  {
   "cell_type": "markdown",
   "metadata": {},
   "source": [
    "## Importing Dependencies"
   ]
  },
  {
   "cell_type": "code",
   "execution_count": 1,
   "metadata": {},
   "outputs": [
    {
     "name": "stderr",
     "output_type": "stream",
     "text": [
      "/home/siddharth/miniconda3/envs/haystack/lib/python3.10/site-packages/tqdm/auto.py:21: TqdmWarning: IProgress not found. Please update jupyter and ipywidgets. See https://ipywidgets.readthedocs.io/en/stable/user_install.html\n",
      "  from .autonotebook import tqdm as notebook_tqdm\n"
     ]
    }
   ],
   "source": [
    "import pandas as pd\n",
    "from haystack.document_stores import InMemoryDocumentStore\n",
    "from haystack.nodes import EmbeddingRetriever, DensePassageRetriever\n",
    "from haystack.pipelines import DocumentSearchPipeline\n",
    "from haystack import Document\n",
    "from haystack.utils import print_documents"
   ]
  },
  {
   "cell_type": "markdown",
   "metadata": {},
   "source": [
    "## Loading Datasets"
   ]
  },
  {
   "cell_type": "code",
   "execution_count": 2,
   "metadata": {},
   "outputs": [
    {
     "data": {
      "text/html": [
       "<div>\n",
       "<style scoped>\n",
       "    .dataframe tbody tr th:only-of-type {\n",
       "        vertical-align: middle;\n",
       "    }\n",
       "\n",
       "    .dataframe tbody tr th {\n",
       "        vertical-align: top;\n",
       "    }\n",
       "\n",
       "    .dataframe thead th {\n",
       "        text-align: right;\n",
       "    }\n",
       "</style>\n",
       "<table border=\"1\" class=\"dataframe\">\n",
       "  <thead>\n",
       "    <tr style=\"text-align: right;\">\n",
       "      <th></th>\n",
       "      <th>Crisp</th>\n",
       "      <th>Detailed</th>\n",
       "    </tr>\n",
       "  </thead>\n",
       "  <tbody>\n",
       "    <tr>\n",
       "      <th>0</th>\n",
       "      <td>Plaksha University, founded in 2019, emerged a...</td>\n",
       "      <td>Plaksha University is the culmination of a vis...</td>\n",
       "    </tr>\n",
       "    <tr>\n",
       "      <th>1</th>\n",
       "      <td>Plaksha University's framework rests upon thre...</td>\n",
       "      <td>Plaksha University's mission is underpinned by...</td>\n",
       "    </tr>\n",
       "    <tr>\n",
       "      <th>2</th>\n",
       "      <td>Plaksha University's founders represent a dive...</td>\n",
       "      <td>The driving force behind Plaksha University co...</td>\n",
       "    </tr>\n",
       "    <tr>\n",
       "      <th>3</th>\n",
       "      <td>Back in 2017, Plaksha University formed an Aca...</td>\n",
       "      <td>In 2017, Plaksha University took a significant...</td>\n",
       "    </tr>\n",
       "    <tr>\n",
       "      <th>4</th>\n",
       "      <td>Plaksha University has forged partnerships wit...</td>\n",
       "      <td>Plaksha University's commitment to fostering t...</td>\n",
       "    </tr>\n",
       "  </tbody>\n",
       "</table>\n",
       "</div>"
      ],
      "text/plain": [
       "                                               Crisp  \\\n",
       "0  Plaksha University, founded in 2019, emerged a...   \n",
       "1  Plaksha University's framework rests upon thre...   \n",
       "2  Plaksha University's founders represent a dive...   \n",
       "3  Back in 2017, Plaksha University formed an Aca...   \n",
       "4  Plaksha University has forged partnerships wit...   \n",
       "\n",
       "                                            Detailed  \n",
       "0  Plaksha University is the culmination of a vis...  \n",
       "1  Plaksha University's mission is underpinned by...  \n",
       "2  The driving force behind Plaksha University co...  \n",
       "3  In 2017, Plaksha University took a significant...  \n",
       "4  Plaksha University's commitment to fostering t...  "
      ]
     },
     "execution_count": 2,
     "metadata": {},
     "output_type": "execute_result"
    }
   ],
   "source": [
    "website_df = pd.read_csv('../data/plaksha website - Sheet2m.csv')\n",
    "website_df.head()"
   ]
  },
  {
   "cell_type": "markdown",
   "metadata": {},
   "source": [
    "## Creating a InMemory Data Store"
   ]
  },
  {
   "cell_type": "code",
   "execution_count": 3,
   "metadata": {},
   "outputs": [],
   "source": [
    "document_store_inmemory = InMemoryDocumentStore(use_bm25=False, use_gpu=True, similarity=\"dot_product\")"
   ]
  },
  {
   "cell_type": "markdown",
   "metadata": {},
   "source": [
    "### Casting data into Document object"
   ]
  },
  {
   "cell_type": "code",
   "execution_count": 4,
   "metadata": {},
   "outputs": [],
   "source": [
    "document_list = []\n",
    "\n",
    "for i in website_df[\"Crisp\"]:\n",
    "    document = Document(content=i, content_type='text')\n",
    "    document_list.append(document)"
   ]
  },
  {
   "cell_type": "code",
   "execution_count": 5,
   "metadata": {},
   "outputs": [],
   "source": [
    "document_store_inmemory.write_documents(document_list)"
   ]
  },
  {
   "cell_type": "markdown",
   "metadata": {},
   "source": [
    "## Initializing the Retriever (Embedding)\n",
    "\n"
   ]
  },
  {
   "cell_type": "code",
   "execution_count": 6,
   "metadata": {},
   "outputs": [
    {
     "name": "stderr",
     "output_type": "stream",
     "text": [
      "/home/siddharth/miniconda3/envs/haystack/lib/python3.10/site-packages/torch/_utils.py:831: UserWarning: TypedStorage is deprecated. It will be removed in the future and UntypedStorage will be the only storage class. This should only matter to you if you are using storages directly.  To access UntypedStorage directly, use tensor.untyped_storage() instead of tensor.storage()\n",
      "  return self.fget.__get__(instance, owner)()\n"
     ]
    }
   ],
   "source": [
    "retriever_embedded = EmbeddingRetriever(\n",
    "    document_store=document_store_inmemory,\n",
    "   embedding_model=\"sentence-transformers/multi-qa-mpnet-base-dot-v1\",\n",
    "   model_format=\"sentence_transformers\"\n",
    ")"
   ]
  },
  {
   "cell_type": "code",
   "execution_count": 7,
   "metadata": {},
   "outputs": [
    {
     "name": "stderr",
     "output_type": "stream",
     "text": [
      "Batches: 100%|██████████| 3/3 [00:02<00:00,  1.14it/s]docs/s]\n",
      "Documents Processed: 10000 docs [00:03, 3288.14 docs/s]       \n"
     ]
    }
   ],
   "source": [
    "document_store_inmemory.update_embeddings(retriever_embedded)"
   ]
  },
  {
   "cell_type": "markdown",
   "metadata": {},
   "source": [
    "## Creating the Pipeline"
   ]
  },
  {
   "cell_type": "code",
   "execution_count": 8,
   "metadata": {},
   "outputs": [],
   "source": [
    "search_pipeline = DocumentSearchPipeline(retriever_embedded)"
   ]
  },
  {
   "cell_type": "code",
   "execution_count": 14,
   "metadata": {},
   "outputs": [
    {
     "name": "stderr",
     "output_type": "stream",
     "text": [
      "Batches: 100%|██████████| 1/1 [00:00<00:00, 32.27it/s]"
     ]
    },
    {
     "name": "stdout",
     "output_type": "stream",
     "text": [
      "\n",
      "Query: btech program\n",
      "\n",
      "{   'content': 'Plaksha University invites outstanding and inquisitive '\n",
      "               'individuals to become part of its BTech program, designed to '\n",
      "               'cultivate future technology leaders. The admission process for '\n",
      "               'a limited cohort of 200 students encompasses four key steps: '\n",
      "               'an online application, a virtual interaction phase, the option '\n",
      "               'to apply for need-based scholarships, and the issuance of '\n",
      "               'final decisions on a rolling basis. This meticulous process '\n",
      "               'ensures that the university identifies and selects a talented '\n",
      "               'and diverse group of students to embark on their educational '\n",
      "               'journey in technology and innovation.',\n",
      "    'name': None}\n",
      "\n",
      "{   'content': \"Plaksha University's BTech program fees are divided into two \"\n",
      "               'installments each year, with the semester fees detailed in a '\n",
      "               'table format. Additionally, students should be aware of '\n",
      "               'one-time payments, including a Security Deposit of Rs 50,000 '\n",
      "               \"and an Admission Fee of Rs 50,000. It's important to note that \"\n",
      "               'the deadline for the payment of Semester 1 fees varies '\n",
      "               'depending on the specific admission round. Furthermore, '\n",
      "               'candidates should be aware that fee revisions are possible in '\n",
      "               'subsequent years, typically ranging from 5% to 8% annually. '\n",
      "               'This information provides a transparent overview of the '\n",
      "               'financial aspects associated with the BTech program at Plaksha '\n",
      "               'University.',\n",
      "    'name': None}\n",
      "\n",
      "{   'content': 'The Technology Leaders Program (TLP) is an advanced '\n",
      "               'postgraduate venture in collaboration with Berkeley '\n",
      "               'Engineering and Purdue University. Conceived by global CEOs, '\n",
      "               'entrepreneurs, and academia, TLP spans one year, meticulously '\n",
      "               'selecting high-potential candidates for a rigorous '\n",
      "               'transformation into technology leaders poised to shape a '\n",
      "               'tech-driven world. The curriculum encompasses Artificial '\n",
      "               'Intelligence, Machine Learning, Design Thinking, Systems '\n",
      "               'Thinking, data science applications, entrepreneurship, and '\n",
      "               'personal leadership development, delivered by world-renowned '\n",
      "               'faculty and enriched by mentorship from industry luminaries. '\n",
      "               'TLP equips participants with the knowledge and skills '\n",
      "               'necessary to navigate the evolving technology landscape and '\n",
      "               'lead with innovation and impact.',\n",
      "    'name': None}\n",
      "\n"
     ]
    },
    {
     "name": "stderr",
     "output_type": "stream",
     "text": [
      "\n"
     ]
    }
   ],
   "source": [
    "result = search_pipeline.run(\n",
    "    query = \"btech program\",\n",
    "    params={\"Retriever\": {\"top_k\":3}}\n",
    ")\n",
    "\n",
    "print_documents(result)"
   ]
  },
  {
   "cell_type": "markdown",
   "metadata": {},
   "source": [
    "## Initializing the Retriever (DPR)\n",
    "\n",
    "Dense Passage Retrieval is a retrieval method that calculates relevance using dense representations. Key features:\n",
    "\n",
    "- One BERT base model to encode documents\n",
    "- One BERT base model to encode queries\n",
    "- Ranking of Documents done by dot product similarity between query and document embeddings\n",
    "\n",
    "\n",
    "Indexing using DPR is comparatively expensive in terms of required computation since all documents in the database need to be processed through the transformer. In order to keep query times low, "
   ]
  },
  {
   "cell_type": "code",
   "execution_count": 10,
   "metadata": {},
   "outputs": [],
   "source": [
    "retriever_dpr = DensePassageRetriever(\n",
    "    document_store=document_store_inmemory,\n",
    "    query_embedding_model=\"facebook/dpr-question_encoder-single-nq-base\",\n",
    "    passage_embedding_model=\"facebook/dpr-ctx_encoder-single-nq-base\"\n",
    ")"
   ]
  },
  {
   "cell_type": "markdown",
   "metadata": {},
   "source": [
    "## Creating the Pipeline"
   ]
  },
  {
   "cell_type": "code",
   "execution_count": 11,
   "metadata": {},
   "outputs": [],
   "source": [
    "search_pipeline = DocumentSearchPipeline(retriever_embedded)"
   ]
  },
  {
   "cell_type": "code",
   "execution_count": 13,
   "metadata": {},
   "outputs": [
    {
     "name": "stderr",
     "output_type": "stream",
     "text": [
      "Batches: 100%|██████████| 1/1 [00:00<00:00, 30.14it/s]"
     ]
    },
    {
     "name": "stdout",
     "output_type": "stream",
     "text": [
      "\n",
      "Query: btech degrees\n",
      "\n",
      "{   'content': 'Plaksha University invites outstanding and inquisitive '\n",
      "               'individuals to become part of its BTech program, designed to '\n",
      "               'cultivate future technology leaders. The admission process for '\n",
      "               'a limited cohort of 200 students encompasses four key steps: '\n",
      "               'an online application, a virtual interaction phase, the option '\n",
      "               'to apply for need-based scholarships, and the issuance of '\n",
      "               'final decisions on a rolling basis. This meticulous process '\n",
      "               'ensures that the university identifies and selects a talented '\n",
      "               'and diverse group of students to embark on their educational '\n",
      "               'journey in technology and innovation.',\n",
      "    'name': None}\n",
      "\n",
      "{   'content': 'Plaksha University offers four unique and profoundly '\n",
      "               'interdisciplinary undergraduate B.Tech degrees, representing '\n",
      "               'the vanguard of 21st-century education. These programs delve '\n",
      "               'into cutting-edge disciplines, encompassing Computer Science '\n",
      "               'and Artificial Intelligence, Data Science, Economics, and '\n",
      "               'Business, Robotics and Cyber Physical Systems, and Biological '\n",
      "               'Systems Engineering. World-class faculty members lead these '\n",
      "               'programs, ensuring that students benefit from an extraordinary '\n",
      "               'learning journey, pushing the boundaries of knowledge and '\n",
      "               \"innovation while preparing them for the challenges of today's \"\n",
      "               'rapidly evolving world.',\n",
      "    'name': None}\n",
      "\n",
      "{   'content': \"Plaksha University's BTech program fees are divided into two \"\n",
      "               'installments each year, with the semester fees detailed in a '\n",
      "               'table format. Additionally, students should be aware of '\n",
      "               'one-time payments, including a Security Deposit of Rs 50,000 '\n",
      "               \"and an Admission Fee of Rs 50,000. It's important to note that \"\n",
      "               'the deadline for the payment of Semester 1 fees varies '\n",
      "               'depending on the specific admission round. Furthermore, '\n",
      "               'candidates should be aware that fee revisions are possible in '\n",
      "               'subsequent years, typically ranging from 5% to 8% annually. '\n",
      "               'This information provides a transparent overview of the '\n",
      "               'financial aspects associated with the BTech program at Plaksha '\n",
      "               'University.',\n",
      "    'name': None}\n",
      "\n"
     ]
    },
    {
     "name": "stderr",
     "output_type": "stream",
     "text": [
      "\n"
     ]
    }
   ],
   "source": [
    "result = search_pipeline.run(\n",
    "    query = \"btech degrees\",\n",
    "    params={\"Retriever\": {\"top_k\":3}}\n",
    ")\n",
    "\n",
    "print_documents(result)"
   ]
  },
  {
   "cell_type": "code",
   "execution_count": null,
   "metadata": {},
   "outputs": [],
   "source": []
  }
 ],
 "metadata": {
  "kernelspec": {
   "display_name": "haystack",
   "language": "python",
   "name": "python3"
  },
  "language_info": {
   "codemirror_mode": {
    "name": "ipython",
    "version": 3
   },
   "file_extension": ".py",
   "mimetype": "text/x-python",
   "name": "python",
   "nbconvert_exporter": "python",
   "pygments_lexer": "ipython3",
   "version": "3.10.13"
  },
  "orig_nbformat": 4
 },
 "nbformat": 4,
 "nbformat_minor": 2
}
